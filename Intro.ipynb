{
 "cells": [
  {
   "cell_type": "code",
   "execution_count": 3,
   "id": "fb4d3e05",
   "metadata": {},
   "outputs": [
    {
     "data": {
      "text/plain": [
       "'shadrackshadrackshadrack'"
      ]
     },
     "execution_count": 3,
     "metadata": {},
     "output_type": "execute_result"
    }
   ],
   "source": [
    "a= 'shadrack'*3\n",
    "a"
   ]
  },
  {
   "cell_type": "code",
   "execution_count": 4,
   "id": "9fe65f8f",
   "metadata": {},
   "outputs": [
    {
     "data": {
      "text/plain": [
       "'JamesRiri'"
      ]
     },
     "execution_count": 4,
     "metadata": {},
     "output_type": "execute_result"
    }
   ],
   "source": [
    "a= 'James'\n",
    "b= 'Riri'\n",
    "a + b"
   ]
  },
  {
   "cell_type": "code",
   "execution_count": 5,
   "id": "409c0ba2",
   "metadata": {},
   "outputs": [
    {
     "data": {
      "text/plain": [
       "5"
      ]
     },
     "execution_count": 5,
     "metadata": {},
     "output_type": "execute_result"
    }
   ],
   "source": [
    "def add(a,b):\n",
    "    return a+b\n",
    "\n",
    "add(1,4)"
   ]
  },
  {
   "cell_type": "code",
   "execution_count": 6,
   "id": "00b527c7",
   "metadata": {},
   "outputs": [
    {
     "data": {
      "text/plain": [
       "str"
      ]
     },
     "execution_count": 6,
     "metadata": {},
     "output_type": "execute_result"
    }
   ],
   "source": [
    "type('shadi')"
   ]
  },
  {
   "cell_type": "code",
   "execution_count": 7,
   "id": "6c8ebc31",
   "metadata": {},
   "outputs": [
    {
     "data": {
      "text/plain": [
       "578"
      ]
     },
     "execution_count": 7,
     "metadata": {},
     "output_type": "execute_result"
    }
   ],
   "source": [
    "int('578')"
   ]
  },
  {
   "cell_type": "code",
   "execution_count": 9,
   "id": "48186f86",
   "metadata": {},
   "outputs": [
    {
     "data": {
      "text/plain": [
       "'jxmmi'"
      ]
     },
     "execution_count": 9,
     "metadata": {},
     "output_type": "execute_result"
    }
   ],
   "source": [
    "str('jxmmi')"
   ]
  },
  {
   "cell_type": "code",
   "execution_count": 10,
   "id": "2b616a3c",
   "metadata": {},
   "outputs": [
    {
     "data": {
      "text/plain": [
       "4"
      ]
     },
     "execution_count": 10,
     "metadata": {},
     "output_type": "execute_result"
    }
   ],
   "source": [
    "int(4.89585)"
   ]
  },
  {
   "cell_type": "code",
   "execution_count": 15,
   "id": "85a231aa",
   "metadata": {},
   "outputs": [
    {
     "data": {
      "text/plain": [
       "4.7567"
      ]
     },
     "execution_count": 15,
     "metadata": {},
     "output_type": "execute_result"
    }
   ],
   "source": [
    "float(4.7567)"
   ]
  },
  {
   "cell_type": "code",
   "execution_count": 16,
   "id": "f5456ab1",
   "metadata": {},
   "outputs": [
    {
     "data": {
      "text/plain": [
       "-23"
      ]
     },
     "execution_count": 16,
     "metadata": {},
     "output_type": "execute_result"
    }
   ],
   "source": [
    "int(-23.9)"
   ]
  },
  {
   "cell_type": "code",
   "execution_count": 17,
   "id": "17673dd7",
   "metadata": {},
   "outputs": [
    {
     "data": {
      "text/plain": [
       "79.543"
      ]
     },
     "execution_count": 17,
     "metadata": {},
     "output_type": "execute_result"
    }
   ],
   "source": [
    "float('79.543')"
   ]
  },
  {
   "cell_type": "code",
   "execution_count": 18,
   "id": "1d63c1d9",
   "metadata": {},
   "outputs": [
    {
     "data": {
      "text/plain": [
       "57463.0"
      ]
     },
     "execution_count": 18,
     "metadata": {},
     "output_type": "execute_result"
    }
   ],
   "source": [
    "float(57463)"
   ]
  },
  {
   "cell_type": "code",
   "execution_count": 20,
   "id": "7593314c",
   "metadata": {},
   "outputs": [
    {
     "data": {
      "text/plain": [
       "'45345'"
      ]
     },
     "execution_count": 20,
     "metadata": {},
     "output_type": "execute_result"
    }
   ],
   "source": [
    "str(45345)"
   ]
  },
  {
   "cell_type": "code",
   "execution_count": 21,
   "id": "35bff484",
   "metadata": {},
   "outputs": [
    {
     "data": {
      "text/plain": [
       "'8574857.9898'"
      ]
     },
     "execution_count": 21,
     "metadata": {},
     "output_type": "execute_result"
    }
   ],
   "source": [
    "str(8574857.9898)"
   ]
  },
  {
   "cell_type": "code",
   "execution_count": 22,
   "id": "5325c41c",
   "metadata": {},
   "outputs": [
    {
     "data": {
      "text/plain": [
       "<module 'math' (built-in)>"
      ]
     },
     "execution_count": 22,
     "metadata": {},
     "output_type": "execute_result"
    }
   ],
   "source": [
    "import math\n",
    "math"
   ]
  },
  {
   "cell_type": "code",
   "execution_count": 24,
   "id": "38f886aa",
   "metadata": {},
   "outputs": [],
   "source": [
    "math?"
   ]
  },
  {
   "cell_type": "code",
   "execution_count": 28,
   "id": "a42092fe",
   "metadata": {},
   "outputs": [
    {
     "data": {
      "text/plain": [
       "223.33159203301264"
      ]
     },
     "execution_count": 28,
     "metadata": {},
     "output_type": "execute_result"
    }
   ],
   "source": [
    "math.sqrt(49877)"
   ]
  },
  {
   "cell_type": "code",
   "execution_count": 29,
   "id": "a05cfd56",
   "metadata": {},
   "outputs": [
    {
     "data": {
      "text/plain": [
       "3.0"
      ]
     },
     "execution_count": 29,
     "metadata": {},
     "output_type": "execute_result"
    }
   ],
   "source": [
    "math.sqrt(36)/2"
   ]
  },
  {
   "cell_type": "code",
   "execution_count": 30,
   "id": "4ae9633b",
   "metadata": {},
   "outputs": [],
   "source": [
    "degrees = 45\n",
    "radian=degrees/180.0*math.pi"
   ]
  },
  {
   "cell_type": "code",
   "execution_count": 31,
   "id": "c9bbc8f7",
   "metadata": {},
   "outputs": [
    {
     "data": {
      "text/plain": [
       "0.7853981633974483"
      ]
     },
     "execution_count": 31,
     "metadata": {},
     "output_type": "execute_result"
    }
   ],
   "source": [
    "radian"
   ]
  },
  {
   "cell_type": "code",
   "execution_count": 33,
   "id": "f73d17ff",
   "metadata": {},
   "outputs": [
    {
     "data": {
      "text/plain": [
       "0.7071067811865476"
      ]
     },
     "execution_count": 33,
     "metadata": {},
     "output_type": "execute_result"
    }
   ],
   "source": [
    "math.sin(radian)"
   ]
  },
  {
   "cell_type": "code",
   "execution_count": null,
   "id": "11458d12",
   "metadata": {},
   "outputs": [],
   "source": []
  }
 ],
 "metadata": {
  "kernelspec": {
   "display_name": "Python 3 (ipykernel)",
   "language": "python",
   "name": "python3"
  },
  "language_info": {
   "codemirror_mode": {
    "name": "ipython",
    "version": 3
   },
   "file_extension": ".py",
   "mimetype": "text/x-python",
   "name": "python",
   "nbconvert_exporter": "python",
   "pygments_lexer": "ipython3",
   "version": "3.9.16"
  }
 },
 "nbformat": 4,
 "nbformat_minor": 5
}
