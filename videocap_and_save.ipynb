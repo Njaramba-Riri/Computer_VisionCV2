{
 "cells": [
  {
   "cell_type": "code",
   "execution_count": 1,
   "id": "07f9188b-b877-4b41-8509-491349d3386f",
   "metadata": {},
   "outputs": [
    {
     "name": "stdout",
     "output_type": "stream",
     "text": [
      "4.7.0\n"
     ]
    }
   ],
   "source": [
    "import cv2\n",
    "print(cv2.__version__)"
   ]
  },
  {
   "cell_type": "code",
   "execution_count": 3,
   "id": "c73c5dd2-3898-4cf9-8f0f-08f54cc976ab",
   "metadata": {},
   "outputs": [],
   "source": [
    "cap=cv2.VideoCapture(0)\n",
    "\n",
    "\n",
    "face = cv2.CascadeClassifier(cv2.data.haarcascades + 'haarcascade_frontalface_default.xml')\n",
    "eye = cv2.CascadeClassifier(cv2.data.haarcascades + 'haarcascade_eye.xml')\n",
    "\n",
    "\n",
    "\n",
    "while True:\n",
    "    ret, img=cap.read()\n",
    "    gray=cv2.cvtColor(img, cv2.COLOR_BGR2GRAY)\n",
    "    faces= face.detectMultiScale(gray)\n",
    "\n",
    "    for x, y, w, h in faces:\n",
    "        cv2.rectangle(img, (x,y), (x+w, y+h), (255, 127, 255), 3)\n",
    "\n",
    "        ROI= gray[y:y+h, x:x+w]\n",
    "        Roi_color= img[y:y+h, x:x+w]\n",
    "        eyes= eye.detectMultiScale(ROI)\n",
    "\n",
    "        for a,b,c,d in eyes:\n",
    "            cv2.rectangle(Roi_color, (a,b), (a+c, b+d), (0,255,0), 3)\n",
    "\n",
    "\n",
    "\n",
    "    cv2.imshow ('video', img)\n",
    "\n",
    "    key= cv2.waitKey(23)\n",
    "    if key == 27:\n",
    "        cv2.imwrite(\"Images/Jxmmi.jpeg\", img)\n",
    "        break\n",
    "\n",
    "cap.release()\n",
    "cv2.destroyAllWindows()"
   ]
  },
  {
   "cell_type": "code",
   "execution_count": null,
   "id": "09aded84-911b-4624-a0ee-f24ff9cdcd58",
   "metadata": {},
   "outputs": [],
   "source": []
  }
 ],
 "metadata": {
  "kernelspec": {
   "display_name": "Python 3 (ipykernel)",
   "language": "python",
   "name": "python3"
  },
  "language_info": {
   "codemirror_mode": {
    "name": "ipython",
    "version": 3
   },
   "file_extension": ".py",
   "mimetype": "text/x-python",
   "name": "python",
   "nbconvert_exporter": "python",
   "pygments_lexer": "ipython3",
   "version": "3.9.16"
  }
 },
 "nbformat": 4,
 "nbformat_minor": 5
}
