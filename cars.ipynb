{
 "cells": [
  {
   "cell_type": "code",
   "execution_count": 1,
   "id": "784e8fb3-e17d-408e-adc7-f83e4536e90f",
   "metadata": {},
   "outputs": [],
   "source": [
    "import cv2"
   ]
  },
  {
   "cell_type": "code",
   "execution_count": 6,
   "id": "c3d2a29e-ec24-43e1-98c7-cad916cce546",
   "metadata": {},
   "outputs": [],
   "source": [
    "cap = cv2.VideoCapture('Images/cars.mp4')\n",
    "\n",
    "car_cascade = cv2.CascadeClassifier('cascades/cars.xml')\n",
    "\n",
    "\n",
    "while cap.isOpened():\n",
    "    \n",
    "    ret, frames = cap.read()\n",
    "\t\n",
    "    if ret:\n",
    "        if frames is not None:\n",
    "            gray = cv2.cvtColor(frames, cv2.COLOR_BGR2GRAY)\t\n",
    "\n",
    "            cars = car_cascade.detectMultiScale(gray, 1.1, 4)\t\n",
    "\n",
    "            for (x,y,w,h) in cars:\n",
    "\n",
    "                cv2.rectangle(frames,(x,y),(x+w,y+h),(0,0,255),2)\n",
    "\n",
    "            cv2.imshow('carsvideo', frames)\t\n",
    "\n",
    "            if cv2.waitKey(3) == 27:\n",
    "                break\n",
    "        else:\n",
    "            print(\"No frames received.\")\n",
    "            break\n",
    "    else:\n",
    "        break\n",
    "\n",
    "#cap.release()\n",
    "cv2.destroyAllWindows()"
   ]
  },
  {
   "cell_type": "code",
   "execution_count": null,
   "id": "feaf4900-d1b6-4c61-bdd9-0d093836b2b7",
   "metadata": {},
   "outputs": [],
   "source": []
  }
 ],
 "metadata": {
  "kernelspec": {
   "display_name": "Python 3 (ipykernel)",
   "language": "python",
   "name": "python3"
  },
  "language_info": {
   "codemirror_mode": {
    "name": "ipython",
    "version": 3
   },
   "file_extension": ".py",
   "mimetype": "text/x-python",
   "name": "python",
   "nbconvert_exporter": "python",
   "pygments_lexer": "ipython3",
   "version": "3.9.16"
  }
 },
 "nbformat": 4,
 "nbformat_minor": 5
}
