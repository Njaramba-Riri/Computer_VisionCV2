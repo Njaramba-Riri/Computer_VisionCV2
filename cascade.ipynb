{
 "cells": [
  {
   "cell_type": "code",
   "execution_count": 1,
   "id": "30bdb7d7-e121-4dd3-a2db-ed29cae6c26e",
   "metadata": {},
   "outputs": [],
   "source": [
    "import cv2"
   ]
  },
  {
   "cell_type": "code",
   "execution_count": 2,
   "id": "b6cc1b34-a480-40d9-b873-b28de006989c",
   "metadata": {},
   "outputs": [
    {
     "name": "stdout",
     "output_type": "stream",
     "text": [
      "0\n",
      "()\n"
     ]
    }
   ],
   "source": [
    "cap= cv2.VideoCapture(0)\n",
    "ret, img= cap.read()\n",
    "\n",
    "face_cascade= cv2.CascadeClassifier(cv2.data.haarcascades + 'haarcascade_frontalface_default.xml')\n",
    "eye_cascade= cv2.CascadeClassifier(cv2.data.haarcascades + 'haarcascade_eye.xml')\n",
    "\n",
    "gray=cv2.cvtColor(img, cv2.COLOR_BGR2GRAY)\n",
    "faces= face_cascade.detectMultiScale(gray, 1.1, 4)\n",
    "\n",
    "no_faces=len(faces)\n",
    "print(no_faces)\n",
    "print(faces)\n",
    "\n",
    "for x, y, w, h in faces:\n",
    "    cv2.rectangle(img, (x,y), (x+w, y+h), (255, 0, 255), 2)\n",
    "\n",
    "    ROI= gray[y:y+h, x:x+w]\n",
    "    Roi_color= img[y:y+h, x:x+w]\n",
    "    eyes= eye_cascade.detectMultiScale(ROI)\n",
    "    \n",
    "    for a,b,c,d in eyes:\n",
    "        cv2.rectangle(Roi_color, (a,b), (a+c, b+d), (0,255,0), 2)\n",
    "        cv2.imshow('gray', Roi_color)\n",
    "    \n",
    "    k=cv2.waitKey(33) & 0xff\n",
    "    if k==27:\n",
    "        break\n",
    "        \n",
    "        \n",
    "\n",
    "cv2.imshow('img', img)\n",
    "cv2.waitKey(0)\n",
    "cap.release()\n",
    "cv2.destroyAllWindows()"
   ]
  },
  {
   "cell_type": "code",
   "execution_count": null,
   "id": "3a65f9ff-c67f-44bd-bdfa-b9d3d6aff990",
   "metadata": {},
   "outputs": [],
   "source": []
  }
 ],
 "metadata": {
  "kernelspec": {
   "display_name": "Python 3 (ipykernel)",
   "language": "python",
   "name": "python3"
  },
  "language_info": {
   "codemirror_mode": {
    "name": "ipython",
    "version": 3
   },
   "file_extension": ".py",
   "mimetype": "text/x-python",
   "name": "python",
   "nbconvert_exporter": "python",
   "pygments_lexer": "ipython3",
   "version": "3.9.16"
  }
 },
 "nbformat": 4,
 "nbformat_minor": 5
}
